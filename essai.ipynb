{
 "cells": [
  {
   "cell_type": "code",
   "execution_count": null,
   "metadata": {},
   "outputs": [],
   "source": []
  },
  {
   "cell_type": "markdown",
   "metadata": {},
   "source": [
    "# mauvaise pratique \n"
   ]
  },
  {
   "cell_type": "code",
   "execution_count": null,
   "metadata": {},
   "outputs": [],
   "source": [
    "\n",
    "from django.contrib.auth.models import User\n",
    "\n",
    "def change_user_role(request, user_id, new_role):\n",
    "    user = User.objects.get(id=user_id)\n",
    "    user.role = new_role\n",
    "    user.save()\n",
    "    return HttpResponse(\"Le rôle de l'utilisateur a été modifié avec succès.\")"
   ]
  },
  {
   "attachments": {},
   "cell_type": "markdown",
   "metadata": {},
   "source": [
    "# bonne pratique"
   ]
  },
  {
   "cell_type": "code",
   "execution_count": null,
   "metadata": {},
   "outputs": [],
   "source": [
    "from django.contrib.auth.decorators import login_required\n",
    "from django.contrib.auth.models import User\n",
    "from django.http import HttpResponse, HttpResponseForbidden\n",
    "\n",
    "@login_required\n",
    "def change_user_role(request, user_id, new_role):\n",
    "    if not request.user.is_superuser:\n",
    "        return HttpResponseForbidden(\"Vous n'êtes pas autorisé à effectuer cette opération.\")\n",
    "    \n",
    "    user = User.objects.get(id=user_id)\n",
    "    user.role = new_role\n",
    "    user.save()\n",
    "    return HttpResponse(\"Le rôle de l'utilisateur a été modifié avec succès.\")"
   ]
  },
  {
   "cell_type": "code",
   "execution_count": null,
   "metadata": {},
   "outputs": [],
   "source": []
  },
  {
   "cell_type": "code",
   "execution_count": null,
   "metadata": {},
   "outputs": [],
   "source": []
  }
 ],
 "metadata": {
  "language_info": {
   "name": "python"
  },
  "orig_nbformat": 4
 },
 "nbformat": 4,
 "nbformat_minor": 2
}
