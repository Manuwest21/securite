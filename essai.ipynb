{
 "cells": [
  {
   "cell_type": "code",
   "execution_count": null,
   "metadata": {},
   "outputs": [],
   "source": []
  },
  {
   "cell_type": "markdown",
   "metadata": {},
   "source": [
    "# mauvaise pratique \n"
   ]
  },
  {
   "cell_type": "code",
   "execution_count": null,
   "metadata": {},
   "outputs": [],
   "source": [
    "\n",
    "from django.contrib.auth.models import User\n",
    "\n",
    "def change_user_role(request, user_id, new_role):\n",
    "    user = User.objects.get(id=user_id)\n",
    "    user.role = new_role\n",
    "    user.save()\n",
    "    return HttpResponse(\"Le rôle de l'utilisateur a été modifié avec succès.\")"
   ]
  },
  {
   "attachments": {},
   "cell_type": "markdown",
   "metadata": {},
   "source": [
    "# bonne pratique"
   ]
  },
  {
   "cell_type": "code",
   "execution_count": null,
   "metadata": {},
   "outputs": [],
   "source": [
    "from django.contrib.auth.decorators import login_required\n",
    "from django.contrib.auth.models import User\n",
    "from django.http import HttpResponse, HttpResponseForbidden\n",
    "\n",
    "@login_required\n",
    "def change_user_role(request, user_id, new_role):\n",
    "    if not request.user.is_superuser:\n",
    "        return HttpResponseForbidden(\"Vous n'êtes pas autorisé à effectuer cette opération.\")\n",
    "    \n",
    "    user = User.objects.get(id=user_id)\n",
    "    user.role = new_role\n",
    "    user.save()\n",
    "    return HttpResponse(\"Le rôle de l'utilisateur a été modifié avec succès.\")"
   ]
  },
  {
   "cell_type": "code",
   "execution_count": null,
   "metadata": {},
   "outputs": [],
   "source": []
  },
  {
   "cell_type": "code",
   "execution_count": null,
   "metadata": {},
   "outputs": [],
   "source": []
  }
 ],
 "metadata": {
  "kernelspec": {
   "display_name": "machinelearning",
   "language": "python",
   "name": "python3"
  },
  "language_info": {
   "name": "python",
   "version": "3.10.9 (main, Jan 11 2023, 15:21:40) [GCC 11.2.0]"
  },
  "orig_nbformat": 4,
  "vscode": {
   "interpreter": {
    "hash": "abfbbb82e5734ddf6fe9d05af3064de704bc0f7110367d6a6ae63e383d8540d0"
   }
  }
 },
 "nbformat": 4,
 "nbformat_minor": 2
}
