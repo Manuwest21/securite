{
 "cells": [
  {
   "attachments": {},
   "cell_type": "markdown",
   "metadata": {},
   "source": [
    "## Accès non autorisé à une fonctionnalité"
   ]
  },
  {
   "cell_type": "code",
   "execution_count": null,
   "metadata": {},
   "outputs": [],
   "source": [
    "# Code vulnérable - Accès non autorisé à une fonctionnalité\n",
    "\n",
    "def fonctionnalite_sensitive(utilisateur):\n",
    "    if utilisateur == \"admin\":\n",
    "        print(\"Fonctionnalité sensible accessible uniquement aux administrateurs\")\n",
    "        # ... Logique de la fonctionnalité sensible ...\n",
    "    else:\n",
    "        print(\"Accès non autorisé\")\n",
    "\n",
    "def main():\n",
    "    utilisateur = input(\"Nom d'utilisateur : \")\n",
    "    fonctionnalite_sensitive(utilisateur)\n",
    "\n",
    "main()\n"
   ]
  },
  {
   "attachments": {},
   "cell_type": "markdown",
   "metadata": {},
   "source": [
    "Un attaquant peut exploiter cette faille en saisissant simplement \"admin\" comme nom d'utilisateur, contournant ainsi les contrôles d'accès insuffisants. L'attaquant peut ainsi accéder à la fonctionnalité sensible qui n'est pas destinée à être accessible pour les utilisateurs non autorisés."
   ]
  },
  {
   "cell_type": "code",
   "execution_count": 9,
   "metadata": {},
   "outputs": [
    {
     "name": "stdout",
     "output_type": "stream",
     "text": [
      "Suppression de l'utilisateur avec l'ID 123.\n",
      "Vous n'êtes pas autorisé à supprimer des comptes utilisateurs.\n"
     ]
    }
   ],
   "source": [
    "# Extrait de code avec une solution de système de rôles et de permissions\n",
    "class User:\n",
    "    def __init__(self, name, roles):\n",
    "        self.name = name\n",
    "        self.roles = roles\n",
    "\n",
    "    def has_permission(self, permission):\n",
    "        # Vérifier si l'utilisateur possède la permission spécifiée\n",
    "        for role in self.roles:\n",
    "            if role.has_permission(permission):\n",
    "                return True\n",
    "        return False\n",
    "\n",
    "class Role:\n",
    "    def __init__(self, name, permissions):\n",
    "        self.name = name\n",
    "        self.permissions = permissions\n",
    "\n",
    "    def has_permission(self, permission):\n",
    "        # Vérifier si le rôle possède la permission spécifiée\n",
    "        return permission in self.permissions\n",
    "\n",
    "# Exemple d'utilisation\n",
    "# Création des rôles avec leurs permissions\n",
    "admin_role = Role(\"administrateur\", [\"supprimer_utilisateur\"])\n",
    "user_role = Role(\"utilisateur_normal\", [])\n",
    "\n",
    "# Création des utilisateurs avec leurs rôles\n",
    "admin_user = User(\"Admin\", [admin_role])\n",
    "normal_user = User(\"John\", [user_role])\n",
    "\n",
    "# Fonction pour supprimer un compte utilisateur\n",
    "def delete_user(user_id):\n",
    "    # Implémentation de la suppression de l'utilisateur (remplacez ceci par votre propre logique)\n",
    "    print(f\"Suppression de l'utilisateur avec l'ID {user_id}.\")\n",
    "    \n",
    "def delete_user_account(user_id, current_user):\n",
    "    if current_user.has_permission(\"supprimer_utilisateur\"):\n",
    "        # Supprimer le compte de l'utilisateur\n",
    "        delete_user(user_id)\n",
    "    else:\n",
    "        print(\"Vous n'êtes pas autorisé à supprimer des comptes utilisateurs.\")\n",
    "\n",
    "# Utilisation de la fonction delete_user_account\n",
    "delete_user_account(123, admin_user)  # Suppression autorisée, l'administrateur a la permission \"supprimer_utilisateur\"\n",
    "delete_user_account(456, normal_user)  # Suppression non autorisée, l'utilisateur normal n'a pas la permission \"supprimer_utilisateur\"\n"
   ]
  }
 ],
 "metadata": {
  "kernelspec": {
   "display_name": "base",
   "language": "python",
   "name": "python3"
  },
  "language_info": {
   "codemirror_mode": {
    "name": "ipython",
    "version": 3
   },
   "file_extension": ".py",
   "mimetype": "text/x-python",
   "name": "python",
   "nbconvert_exporter": "python",
   "pygments_lexer": "ipython3",
   "version": "3.10.8"
  },
  "orig_nbformat": 4
 },
 "nbformat": 4,
 "nbformat_minor": 2
}
