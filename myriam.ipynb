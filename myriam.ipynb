{
 "cells": [
  {
   "attachments": {},
   "cell_type": "markdown",
   "metadata": {},
   "source": [
    "## Accès non autorisé à une fonctionnalité"
   ]
  },
  {
   "cell_type": "code",
   "execution_count": null,
   "metadata": {},
   "outputs": [],
   "source": [
    "# Code vulnérable - Accès non autorisé à une fonctionnalité\n",
    "\n",
    "def fonctionnalite_sensitive(utilisateur):\n",
    "    if utilisateur == \"admin\":\n",
    "        print(\"Fonctionnalité sensible accessible uniquement aux administrateurs\")\n",
    "        # ... Logique de la fonctionnalité sensible ...\n",
    "    else:\n",
    "        print(\"Accès non autorisé\")\n",
    "\n",
    "def main():\n",
    "    utilisateur = input(\"Nom d'utilisateur : \")\n",
    "    fonctionnalite_sensitive(utilisateur)\n",
    "\n",
    "main()\n"
   ]
  },
  {
   "attachments": {},
   "cell_type": "markdown",
   "metadata": {},
   "source": [
    "Un attaquant peut exploiter cette faille en saisissant simplement \"admin\" comme nom d'utilisateur, contournant ainsi les contrôles d'accès insuffisants. L'attaquant peut ainsi accéder à la fonctionnalité sensible qui n'est pas destinée à être accessible pour les utilisateurs non autorisés."
   ]
  }
 ],
 "metadata": {
  "language_info": {
   "name": "python"
  },
  "orig_nbformat": 4
 },
 "nbformat": 4,
 "nbformat_minor": 2
}
