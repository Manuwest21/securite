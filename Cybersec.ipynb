{
 "cells": [
  {
   "attachments": {},
   "cell_type": "markdown",
   "metadata": {},
   "source": [
    "### Sécurité insuffisante des accès et des autorisations"
   ]
  },
  {
   "attachments": {},
   "cell_type": "markdown",
   "metadata": {},
   "source": [
    "    Accès non autorisé : \n",
    "    - Des utilisateurs non autorisés pourraient être en mesure d'accéder à des informations sensibles ou à des fonctionnalités réservées aux administrateurs ou à d'autres rôles privilégiés.\n",
    "\n",
    "    Élévation des privilèges : \n",
    "    - Des utilisateurs malveillants pourraient exploiter une vulnérabilité dans le système pour obtenir des droits d'accès supérieurs à ceux qui leur sont normalement accordés, leur permettant ainsi d'effectuer des actions nuisibles ou de compromettre le système.\n",
    "\n",
    "    Fuite d'informations : \n",
    "    - Des utilisateurs pourraient être en mesure de consulter, copier ou modifier des données auxquelles ils ne devraient pas avoir accès, ce qui pourrait entraîner une violation de la confidentialité ou la divulgation d'informations sensibles.\n",
    "\n",
    "    Modification indue : \n",
    "    - Des utilisateurs non autorisés pourraient être en mesure de modifier des paramètres ou des configurations critiques du système, entraînant des dysfonctionnements ou une compromission de la sécurité globale."
   ]
  },
  {
   "attachments": {},
   "cell_type": "markdown",
   "metadata": {},
   "source": [
    "vous devrez : \n",
    "\n",
    " - apprendre quel est cette famille de faille.\n",
    " - Comprendre comment elles s'exploitent.\n",
    " - Réaliser un code qui possède la faille, \n",
    " - l'exploiter, puis trouver comment se protéger de la faille."
   ]
  }
 ],
 "metadata": {
  "kernelspec": {
   "display_name": "Python 3",
   "language": "python",
   "name": "python3"
  },
  "language_info": {
   "name": "python",
   "version": "3.10.6 (main, Mar 10 2023, 10:55:28) [GCC 11.3.0]"
  },
  "orig_nbformat": 4,
  "vscode": {
   "interpreter": {
    "hash": "916dbcbb3f70747c44a77c7bcd40155683ae19c65e1c03b4aa3499c5328201f1"
   }
  }
 },
 "nbformat": 4,
 "nbformat_minor": 2
}
