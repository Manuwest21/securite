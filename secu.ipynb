{
 "cells": [
  {
   "cell_type": "markdown",
   "metadata": {},
   "source": [
    "### Sécurité insuffisante des accès et des autorisations"
   ]
  },
  {
   "cell_type": "code",
   "execution_count": null,
   "metadata": {},
   "outputs": [],
   "source": [
    "# Code vulnérable avec une sécurité insuffisante des accès et des autorisations\n",
    "\n",
    "def get_user_data(user_id):\n",
    "    if user_id == 'admin':\n",
    "        return \"Données sensibles confidentielles.\"\n",
    "    else:\n",
    "        return \"Données non sensibles.\"\n",
    "\n",
    "def main():\n",
    "    user = input(\"Entrez votre identifiant d'utilisateur : \")\n",
    "    data = get_user_data(user)\n",
    "    print(data)\n",
    "\n",
    "if __name__ == '__main__':\n",
    "    main()"
   ]
  },
  {
   "cell_type": "code",
   "execution_count": null,
   "metadata": {},
   "outputs": [],
   "source": [
    "# Code corrigé avec une vérification des autorisations appropriée\n",
    "\n",
    "def get_user_data(user_id):\n",
    "    # Simuler une base de données contenant les autorisations des utilisateurs\n",
    "    user_permissions = {\n",
    "        'admin': 'full',\n",
    "        'guest': 'read-only',\n",
    "        'user': 'read-write'\n",
    "    }\n",
    "\n",
    "    # Vérification des autorisations\n",
    "    if user_id in user_permissions:\n",
    "        permission_level = user_permissions[user_id]\n",
    "        if permission_level == 'full':\n",
    "            return \"Données sensibles confidentielles.\"\n",
    "        elif permission_level == 'read-only':\n",
    "            return \"Données en lecture seule.\"\n",
    "        elif permission_level == 'read-write':\n",
    "            return \"Données en lecture et écriture.\"\n",
    "    else:\n",
    "        return \"Utilisateur non autorisé.\"\n",
    "\n",
    "def main():\n",
    "    user = input(\"Entrez votre identifiant d'utilisateur : \")\n",
    "    data = get_user_data(user)\n",
    "    print(data)\n",
    "\n",
    "if __name__ == '__main__':\n",
    "    main()\n"
   ]
  }
 ],
 "metadata": {
  "language_info": {
   "name": "python"
  },
  "orig_nbformat": 4
 },
 "nbformat": 4,
 "nbformat_minor": 2
}
