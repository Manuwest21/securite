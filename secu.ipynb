{
 "cells": [
  {
   "cell_type": "markdown",
   "metadata": {},
   "source": [
    "### Sécurité insuffisante des accès et des autorisations"
   ]
  },
  {
   "cell_type": "code",
   "execution_count": 13,
   "metadata": {},
   "outputs": [],
   "source": [
    "from IPython.display import Image"
   ]
  },
  {
   "attachments": {},
   "cell_type": "markdown",
   "metadata": {},
   "source": [
    "Accès non autorisé  \n",
    "Élévation des privilèges  \n",
    "Modification indue  \n",
    "Fuite d'informations"
   ]
  },
  {
   "cell_type": "markdown",
   "metadata": {},
   "source": [
    "## Buffer Overread"
   ]
  },
  {
   "cell_type": "code",
   "execution_count": 14,
   "metadata": {},
   "outputs": [
    {
     "data": {
      "text/html": [
       "<img src=\"https://upload.wikimedia.org/wikipedia/commons/thumb/d/d0/Buffer_overflow_basicexample.svg/1920px-Buffer_overflow_basicexample.svg.png\" width=\"600\"/>"
      ],
      "text/plain": [
       "<IPython.core.display.Image object>"
      ]
     },
     "execution_count": 14,
     "metadata": {},
     "output_type": "execute_result"
    }
   ],
   "source": [
    "Image(url=\"https://upload.wikimedia.org/wikipedia/commons/thumb/d/d0/Buffer_overflow_basicexample.svg/1920px-Buffer_overflow_basicexample.svg.png\", width = 600)"
   ]
  },
  {
   "cell_type": "code",
   "execution_count": 18,
   "metadata": {},
   "outputs": [
    {
     "name": "stdout",
     "output_type": "stream",
     "text": [
      "b'A\\x00\\x00\\x00A\\x00\\x00\\x00A\\x00\\x00\\x00A\\x00\\x00\\x00A\\x00\\x00\\x00A\\x00\\x00\\x00A\\x00\\x00\\x00A\\x00\\x00\\x00A\\x00\\x00\\x00A\\x00\\x00\\x00A\\x00\\x00\\x00A\\x00\\x00\\x00A\\x00\\x00\\x00A\\x00\\x00\\x00A\\x00\\x00\\x00A\\x00\\x00\\x00A\\x00\\x00\\x00A\\x00\\x00\\x00A\\x00\\x00\\x00A\\x00\\x00\\x00A\\x00\\x00\\x00A\\x00\\x00\\x00A\\x00\\x00\\x00A\\x00\\x00\\x00A\\x00\\x00\\x00A\\x00\\x00\\x00A\\x00\\x00\\x00A\\x00\\x00\\x00A\\x00\\x00\\x00A\\x00\\x00\\x00A\\x00\\x00\\x00A\\x00\\x00\\x00A\\x00\\x00\\x00A\\x00\\x00\\x00A\\x00\\x00\\x00A\\x00\\x00\\x00A\\x00\\x00\\x00A\\x00'\n"
     ]
    }
   ],
   "source": [
    "import ctypes\n",
    "data = \"\"\n",
    "# Fonction vulnérable\n",
    "def insecure_function(data):\n",
    "    buffer = \"A\" * 100  # Crée un tampon avec une taille suffisante\n",
    "    read_length = 150  # Longueur de lecture supérieure à la taille du tampon\n",
    "    \n",
    "    # Lecture des données au-delà de la taille du tampon\n",
    "    data = ctypes.string_at(buffer, read_length)\n",
    "    \n",
    "    # Utilisation des données lues (exemple : affichage)\n",
    "    print(data)\n",
    "\n",
    "# Appel de la fonction vulnérable\n",
    "insecure_function(data)\n"
   ]
  },
  {
   "cell_type": "code",
   "execution_count": 21,
   "metadata": {},
   "outputs": [
    {
     "name": "stdout",
     "output_type": "stream",
     "text": [
      "b'A\\x00\\x00\\x00A\\x00\\x00\\x00A\\x00\\x00\\x00A\\x00\\x00\\x00A\\x00\\x00\\x00A\\x00\\x00\\x00A\\x00\\x00\\x00A\\x00\\x00\\x00A\\x00\\x00\\x00A\\x00\\x00\\x00A\\x00\\x00\\x00A\\x00\\x00\\x00A\\x00\\x00\\x00A\\x00\\x00\\x00A\\x00\\x00\\x00A\\x00\\x00\\x00A\\x00\\x00\\x00A\\x00\\x00\\x00A\\x00\\x00\\x00A\\x00\\x00\\x00A\\x00\\x00\\x00A\\x00\\x00\\x00A\\x00\\x00\\x00A\\x00\\x00\\x00A\\x00\\x00\\x00A\\x00\\x00\\x00A\\x00\\x00\\x00A\\x00\\x00\\x00A\\x00\\x00\\x00A\\x00\\x00\\x00A\\x00\\x00\\x00A\\x00\\x00\\x00A\\x00\\x00\\x00A\\x00\\x00\\x00A\\x00\\x00\\x00A\\x00\\x00\\x00A\\x00\\x00\\x00A\\x00'\n"
     ]
    }
   ],
   "source": [
    "data = \"Code qui permet d'exposer les données\"\n",
    "insecure_function(data)"
   ]
  },
  {
   "cell_type": "markdown",
   "metadata": {},
   "source": [
    "## Buffer Overflow"
   ]
  },
  {
   "cell_type": "code",
   "execution_count": 12,
   "metadata": {},
   "outputs": [
    {
     "data": {
      "text/html": [
       "<img src=\"https://wonderfall.space/content/images/size/w2000/2021/05/overflow.png\" width=\"600\"/>"
      ],
      "text/plain": [
       "<IPython.core.display.Image object>"
      ]
     },
     "execution_count": 12,
     "metadata": {},
     "output_type": "execute_result"
    }
   ],
   "source": [
    "Image(url=\"https://wonderfall.space/content/images/size/w2000/2021/05/overflow.png\", width = 600)"
   ]
  },
  {
   "cell_type": "code",
   "execution_count": 1,
   "metadata": {},
   "outputs": [],
   "source": [
    "# Exemple de code illustrant une faille d'élévation de privilèges par débordement de tampon\n",
    "# Ce code est purement éducatif et ne doit pas être utilisé de manière malveillante\n",
    "\n",
    "import ctypes\n",
    "\n",
    "# Fonction vulnérable\n",
    "def insecure_function():\n",
    "    buffer = \"A\" * 100  # Crée un tampon avec une taille insuffisante\n",
    "    overflow_data = \"B\" * 200  # Données malveillantes pour déborder le tampon\n",
    "    \n",
    "    # Copie des données malveillantes dans le tampon sans vérification de la taille\n",
    "    ctypes.memmove(buffer, overflow_data, len(overflow_data))\n",
    "\n",
    "# Appel de la fonction vulnérable\n",
    "insecure_function()\n"
   ]
  },
  {
   "cell_type": "code",
   "execution_count": null,
   "metadata": {},
   "outputs": [],
   "source": [
    "# Fonction sécurisée\n",
    "def secure_function():\n",
    "    buffer = ctypes.create_string_buffer(100)  # Crée un tampon avec une taille suffisante\n",
    "    overflow_data = b\"B\" * 200  # Données malveillantes pour déborder le tampon\n",
    "    \n",
    "    # Vérifie la taille des données avant la copie\n",
    "    if len(overflow_data) <= ctypes.sizeof(buffer):\n",
    "        # Copie uniquement si la taille est inférieure ou égale à la taille du tampon\n",
    "        ctypes.memmove(buffer, overflow_data, len(overflow_data))\n",
    "    else:\n",
    "        # Gestion de l'erreur ou autre action appropriée\n",
    "        print(\"Dépassement de tampon détecté !\")\n",
    "\n",
    "# Appel de la fonction sécurisée\n",
    "secure_function()"
   ]
  },
  {
   "cell_type": "code",
   "execution_count": null,
   "metadata": {},
   "outputs": [],
   "source": []
  },
  {
   "cell_type": "code",
   "execution_count": null,
   "metadata": {},
   "outputs": [],
   "source": [
    "# Code vulnérable avec une sécurité insuffisante des accès et des autorisations\n",
    "\n",
    "def get_user_data(user_id):\n",
    "    if user_id == 'admin':\n",
    "        return \"Données sensibles confidentielles.\"\n",
    "    else:\n",
    "        return \"Données non sensibles.\"\n",
    "\n",
    "def main():\n",
    "    user = input(\"Entrez votre identifiant d'utilisateur : \")\n",
    "    data = get_user_data(user)\n",
    "    print(data)\n",
    "\n",
    "if __name__ == '__main__':\n",
    "    main()"
   ]
  },
  {
   "cell_type": "code",
   "execution_count": null,
   "metadata": {},
   "outputs": [],
   "source": [
    "# Code corrigé avec une vérification des autorisations appropriée\n",
    "\n",
    "def get_user_data(user_id):\n",
    "    # Simuler une base de données contenant les autorisations des utilisateurs\n",
    "    user_permissions = {\n",
    "        'admin': 'full',\n",
    "        'guest': 'read-only',\n",
    "        'user': 'read-write'\n",
    "    }\n",
    "\n",
    "    # Vérification des autorisations\n",
    "    if user_id in user_permissions:\n",
    "        permission_level = user_permissions[user_id]\n",
    "        if permission_level == 'full':\n",
    "            return \"Données sensibles confidentielles.\"\n",
    "        elif permission_level == 'read-only':\n",
    "            return \"Données en lecture seule.\"\n",
    "        elif permission_level == 'read-write':\n",
    "            return \"Données en lecture et écriture.\"\n",
    "    else:\n",
    "        return \"Utilisateur non autorisé.\"\n",
    "\n",
    "def main():\n",
    "    user = input(\"Entrez votre identifiant d'utilisateur : \")\n",
    "    data = get_user_data(user)\n",
    "    print(data)\n",
    "\n",
    "if __name__ == '__main__':\n",
    "    main()\n"
   ]
  }
 ],
 "metadata": {
  "kernelspec": {
   "display_name": "Python 3",
   "language": "python",
   "name": "python3"
  },
  "language_info": {
   "codemirror_mode": {
    "name": "ipython",
    "version": 3
   },
   "file_extension": ".py",
   "mimetype": "text/x-python",
   "name": "python",
   "nbconvert_exporter": "python",
   "pygments_lexer": "ipython3",
   "version": "3.10.8"
  },
  "orig_nbformat": 4
 },
 "nbformat": 4,
 "nbformat_minor": 2
}
