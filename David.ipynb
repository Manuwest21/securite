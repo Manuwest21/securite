{
 "cells": [
  {
   "cell_type": "code",
   "execution_count": 1,
   "metadata": {},
   "outputs": [
    {
     "name": "stdout",
     "output_type": "stream",
     "text": [
      "Données sensibles confidentielles.\n",
      "Données sensibles confidentielles.\n"
     ]
    }
   ],
   "source": [
    "# Code vulnérable avec une sécurité insuffisante des accès et des autorisations\n",
    "\n",
    "def get_user_data(user_id):\n",
    "    if user_id == 'admin':\n",
    "        return \"Données sensibles confidentielles.\"\n",
    "    else:\n",
    "        return \"Données non sensibles.\"\n",
    "\n",
    "def main():\n",
    "    user = input(\"Entrez votre identifiant d'utilisateur : \")\n",
    "    data = get_user_data(user)\n",
    "    print(data)\n",
    "\n",
    "if __name__ == '__main__':\n",
    "    main()\n",
    "\n",
    "# Code corrigé avec une vérification des autorisations appropriée\n",
    "\n",
    "def get_user_data(user_id):\n",
    "    # Simuler une base de données contenant les autorisations des utilisateurs\n",
    "    user_permissions = {\n",
    "        'admin': 'full',\n",
    "        'guest': 'read-only',\n",
    "        'user': 'read-write'\n",
    "    }\n",
    "\n",
    "    # Vérification des autorisations\n",
    "    if user_id in user_permissions:\n",
    "        permission_level = user_permissions[user_id]\n",
    "        if permission_level == 'full':\n",
    "            return \"Données sensibles confidentielles.\"\n",
    "        elif permission_level == 'read-only':\n",
    "            return \"Données en lecture seule.\"\n",
    "        elif permission_level == 'read-write':\n",
    "            return \"Données en lecture et écriture.\"\n",
    "    else:\n",
    "        return \"Utilisateur non autorisé.\"\n",
    "\n",
    "def main():\n",
    "    user = input(\"Entrez votre identifiant d'utilisateur : \")\n",
    "    data = get_user_data(user)\n",
    "    print(data)\n",
    "\n",
    "if __name__ == '__main__':\n",
    "    main()"
   ]
  }
 ],
 "metadata": {
  "kernelspec": {
   "display_name": "Python 3",
   "language": "python",
   "name": "python3"
  },
  "language_info": {
   "codemirror_mode": {
    "name": "ipython",
    "version": 3
   },
   "file_extension": ".py",
   "mimetype": "text/x-python",
   "name": "python",
   "nbconvert_exporter": "python",
   "pygments_lexer": "ipython3",
   "version": "3.10.6"
  },
  "orig_nbformat": 4,
  "vscode": {
   "interpreter": {
    "hash": "916dbcbb3f70747c44a77c7bcd40155683ae19c65e1c03b4aa3499c5328201f1"
   }
  }
 },
 "nbformat": 4,
 "nbformat_minor": 2
}
