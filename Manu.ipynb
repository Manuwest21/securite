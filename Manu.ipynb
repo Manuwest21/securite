{
 "cells": [
  {
   "cell_type": "code",
   "execution_count": 1,
   "metadata": {},
   "outputs": [
    {
     "ename": "ImproperlyConfigured",
     "evalue": "Requested setting INSTALLED_APPS, but settings are not configured. You must either define the environment variable DJANGO_SETTINGS_MODULE or call settings.configure() before accessing settings.",
     "output_type": "error",
     "traceback": [
      "\u001b[0;31m---------------------------------------------------------------------------\u001b[0m",
      "\u001b[0;31mImproperlyConfigured\u001b[0m                      Traceback (most recent call last)",
      "Cell \u001b[0;32mIn[1], line 3\u001b[0m\n\u001b[1;32m      1\u001b[0m \u001b[39m##bonne pratique\u001b[39;00m\n\u001b[1;32m      2\u001b[0m \u001b[39mfrom\u001b[39;00m \u001b[39mdjango\u001b[39;00m\u001b[39m.\u001b[39;00m\u001b[39mcontrib\u001b[39;00m\u001b[39m.\u001b[39;00m\u001b[39mauth\u001b[39;00m\u001b[39m.\u001b[39;00m\u001b[39mdecorators\u001b[39;00m \u001b[39mimport\u001b[39;00m login_required\n\u001b[0;32m----> 3\u001b[0m \u001b[39mfrom\u001b[39;00m \u001b[39mdjango\u001b[39;00m\u001b[39m.\u001b[39;00m\u001b[39mcontrib\u001b[39;00m\u001b[39m.\u001b[39;00m\u001b[39mauth\u001b[39;00m\u001b[39m.\u001b[39;00m\u001b[39mmodels\u001b[39;00m \u001b[39mimport\u001b[39;00m User\n\u001b[1;32m      4\u001b[0m \u001b[39mfrom\u001b[39;00m \u001b[39mdjango\u001b[39;00m\u001b[39m.\u001b[39;00m\u001b[39mhttp\u001b[39;00m \u001b[39mimport\u001b[39;00m HttpResponse, HttpResponseForbidden\n\u001b[1;32m      5\u001b[0m \u001b[39mfrom\u001b[39;00m \u001b[39mdjango\u001b[39;00m\u001b[39m.\u001b[39;00m\u001b[39mcontrib\u001b[39;00m\u001b[39m.\u001b[39;00m\u001b[39mauth\u001b[39;00m\u001b[39m.\u001b[39;00m\u001b[39mmodels\u001b[39;00m \u001b[39mimport\u001b[39;00m User\n",
      "File \u001b[0;32m/usr/lib/python3/dist-packages/django/contrib/auth/models.py:3\u001b[0m\n\u001b[1;32m      1\u001b[0m \u001b[39mfrom\u001b[39;00m \u001b[39mdjango\u001b[39;00m\u001b[39m.\u001b[39;00m\u001b[39mapps\u001b[39;00m \u001b[39mimport\u001b[39;00m apps\n\u001b[1;32m      2\u001b[0m \u001b[39mfrom\u001b[39;00m \u001b[39mdjango\u001b[39;00m\u001b[39m.\u001b[39;00m\u001b[39mcontrib\u001b[39;00m \u001b[39mimport\u001b[39;00m auth\n\u001b[0;32m----> 3\u001b[0m \u001b[39mfrom\u001b[39;00m \u001b[39mdjango\u001b[39;00m\u001b[39m.\u001b[39;00m\u001b[39mcontrib\u001b[39;00m\u001b[39m.\u001b[39;00m\u001b[39mauth\u001b[39;00m\u001b[39m.\u001b[39;00m\u001b[39mbase_user\u001b[39;00m \u001b[39mimport\u001b[39;00m AbstractBaseUser, BaseUserManager\n\u001b[1;32m      4\u001b[0m \u001b[39mfrom\u001b[39;00m \u001b[39mdjango\u001b[39;00m\u001b[39m.\u001b[39;00m\u001b[39mcontrib\u001b[39;00m\u001b[39m.\u001b[39;00m\u001b[39mauth\u001b[39;00m\u001b[39m.\u001b[39;00m\u001b[39mhashers\u001b[39;00m \u001b[39mimport\u001b[39;00m make_password\n\u001b[1;32m      5\u001b[0m \u001b[39mfrom\u001b[39;00m \u001b[39mdjango\u001b[39;00m\u001b[39m.\u001b[39;00m\u001b[39mcontrib\u001b[39;00m\u001b[39m.\u001b[39;00m\u001b[39mcontenttypes\u001b[39;00m\u001b[39m.\u001b[39;00m\u001b[39mmodels\u001b[39;00m \u001b[39mimport\u001b[39;00m ContentType\n",
      "File \u001b[0;32m/usr/lib/python3/dist-packages/django/contrib/auth/base_user.py:48\u001b[0m\n\u001b[1;32m     44\u001b[0m     \u001b[39mdef\u001b[39;00m \u001b[39mget_by_natural_key\u001b[39m(\u001b[39mself\u001b[39m, username):\n\u001b[1;32m     45\u001b[0m         \u001b[39mreturn\u001b[39;00m \u001b[39mself\u001b[39m\u001b[39m.\u001b[39mget(\u001b[39m*\u001b[39m\u001b[39m*\u001b[39m{\u001b[39mself\u001b[39m\u001b[39m.\u001b[39mmodel\u001b[39m.\u001b[39mUSERNAME_FIELD: username})\n\u001b[0;32m---> 48\u001b[0m \u001b[39mclass\u001b[39;00m \u001b[39mAbstractBaseUser\u001b[39;00m(models\u001b[39m.\u001b[39mModel):\n\u001b[1;32m     49\u001b[0m     password \u001b[39m=\u001b[39m models\u001b[39m.\u001b[39mCharField(_(\u001b[39m'\u001b[39m\u001b[39mpassword\u001b[39m\u001b[39m'\u001b[39m), max_length\u001b[39m=\u001b[39m\u001b[39m128\u001b[39m)\n\u001b[1;32m     50\u001b[0m     last_login \u001b[39m=\u001b[39m models\u001b[39m.\u001b[39mDateTimeField(_(\u001b[39m'\u001b[39m\u001b[39mlast login\u001b[39m\u001b[39m'\u001b[39m), blank\u001b[39m=\u001b[39m\u001b[39mTrue\u001b[39;00m, null\u001b[39m=\u001b[39m\u001b[39mTrue\u001b[39;00m)\n",
      "File \u001b[0;32m/usr/lib/python3/dist-packages/django/db/models/base.py:108\u001b[0m, in \u001b[0;36mModelBase.__new__\u001b[0;34m(cls, name, bases, attrs, **kwargs)\u001b[0m\n\u001b[1;32m    105\u001b[0m app_label \u001b[39m=\u001b[39m \u001b[39mNone\u001b[39;00m\n\u001b[1;32m    107\u001b[0m \u001b[39m# Look for an application configuration to attach the model to.\u001b[39;00m\n\u001b[0;32m--> 108\u001b[0m app_config \u001b[39m=\u001b[39m apps\u001b[39m.\u001b[39;49mget_containing_app_config(module)\n\u001b[1;32m    110\u001b[0m \u001b[39mif\u001b[39;00m \u001b[39mgetattr\u001b[39m(meta, \u001b[39m'\u001b[39m\u001b[39mapp_label\u001b[39m\u001b[39m'\u001b[39m, \u001b[39mNone\u001b[39;00m) \u001b[39mis\u001b[39;00m \u001b[39mNone\u001b[39;00m:\n\u001b[1;32m    111\u001b[0m     \u001b[39mif\u001b[39;00m app_config \u001b[39mis\u001b[39;00m \u001b[39mNone\u001b[39;00m:\n",
      "File \u001b[0;32m/usr/lib/python3/dist-packages/django/apps/registry.py:253\u001b[0m, in \u001b[0;36mApps.get_containing_app_config\u001b[0;34m(self, object_name)\u001b[0m\n\u001b[1;32m    244\u001b[0m \u001b[39mdef\u001b[39;00m \u001b[39mget_containing_app_config\u001b[39m(\u001b[39mself\u001b[39m, object_name):\n\u001b[1;32m    245\u001b[0m \u001b[39m    \u001b[39m\u001b[39m\"\"\"\u001b[39;00m\n\u001b[1;32m    246\u001b[0m \u001b[39m    Look for an app config containing a given object.\u001b[39;00m\n\u001b[1;32m    247\u001b[0m \n\u001b[0;32m   (...)\u001b[0m\n\u001b[1;32m    251\u001b[0m \u001b[39m    Return None if the object isn't in any registered app config.\u001b[39;00m\n\u001b[1;32m    252\u001b[0m \u001b[39m    \"\"\"\u001b[39;00m\n\u001b[0;32m--> 253\u001b[0m     \u001b[39mself\u001b[39;49m\u001b[39m.\u001b[39;49mcheck_apps_ready()\n\u001b[1;32m    254\u001b[0m     candidates \u001b[39m=\u001b[39m []\n\u001b[1;32m    255\u001b[0m     \u001b[39mfor\u001b[39;00m app_config \u001b[39min\u001b[39;00m \u001b[39mself\u001b[39m\u001b[39m.\u001b[39mapp_configs\u001b[39m.\u001b[39mvalues():\n",
      "File \u001b[0;32m/usr/lib/python3/dist-packages/django/apps/registry.py:135\u001b[0m, in \u001b[0;36mApps.check_apps_ready\u001b[0;34m(self)\u001b[0m\n\u001b[1;32m    130\u001b[0m \u001b[39mfrom\u001b[39;00m \u001b[39mdjango\u001b[39;00m\u001b[39m.\u001b[39;00m\u001b[39mconf\u001b[39;00m \u001b[39mimport\u001b[39;00m settings\n\u001b[1;32m    132\u001b[0m \u001b[39m# If \"not ready\" is due to unconfigured settings, accessing\u001b[39;00m\n\u001b[1;32m    133\u001b[0m \u001b[39m# INSTALLED_APPS raises a more helpful ImproperlyConfigured\u001b[39;00m\n\u001b[1;32m    134\u001b[0m \u001b[39m# exception.\u001b[39;00m\n\u001b[0;32m--> 135\u001b[0m settings\u001b[39m.\u001b[39;49mINSTALLED_APPS\n\u001b[1;32m    136\u001b[0m \u001b[39mraise\u001b[39;00m AppRegistryNotReady(\u001b[39m\"\u001b[39m\u001b[39mApps aren\u001b[39m\u001b[39m'\u001b[39m\u001b[39mt loaded yet.\u001b[39m\u001b[39m\"\u001b[39m)\n",
      "File \u001b[0;32m/usr/lib/python3/dist-packages/django/conf/__init__.py:82\u001b[0m, in \u001b[0;36mLazySettings.__getattr__\u001b[0;34m(self, name)\u001b[0m\n\u001b[1;32m     80\u001b[0m \u001b[39m\u001b[39m\u001b[39m\"\"\"Return the value of a setting and cache it in self.__dict__.\"\"\"\u001b[39;00m\n\u001b[1;32m     81\u001b[0m \u001b[39mif\u001b[39;00m \u001b[39mself\u001b[39m\u001b[39m.\u001b[39m_wrapped \u001b[39mis\u001b[39;00m empty:\n\u001b[0;32m---> 82\u001b[0m     \u001b[39mself\u001b[39;49m\u001b[39m.\u001b[39;49m_setup(name)\n\u001b[1;32m     83\u001b[0m val \u001b[39m=\u001b[39m \u001b[39mgetattr\u001b[39m(\u001b[39mself\u001b[39m\u001b[39m.\u001b[39m_wrapped, name)\n\u001b[1;32m     85\u001b[0m \u001b[39m# Special case some settings which require further modification.\u001b[39;00m\n\u001b[1;32m     86\u001b[0m \u001b[39m# This is done here for performance reasons so the modified value is cached.\u001b[39;00m\n",
      "File \u001b[0;32m/usr/lib/python3/dist-packages/django/conf/__init__.py:63\u001b[0m, in \u001b[0;36mLazySettings._setup\u001b[0;34m(self, name)\u001b[0m\n\u001b[1;32m     61\u001b[0m \u001b[39mif\u001b[39;00m \u001b[39mnot\u001b[39;00m settings_module:\n\u001b[1;32m     62\u001b[0m     desc \u001b[39m=\u001b[39m (\u001b[39m\"\u001b[39m\u001b[39msetting \u001b[39m\u001b[39m%s\u001b[39;00m\u001b[39m\"\u001b[39m \u001b[39m%\u001b[39m name) \u001b[39mif\u001b[39;00m name \u001b[39melse\u001b[39;00m \u001b[39m\"\u001b[39m\u001b[39msettings\u001b[39m\u001b[39m\"\u001b[39m\n\u001b[0;32m---> 63\u001b[0m     \u001b[39mraise\u001b[39;00m ImproperlyConfigured(\n\u001b[1;32m     64\u001b[0m         \u001b[39m\"\u001b[39m\u001b[39mRequested \u001b[39m\u001b[39m%s\u001b[39;00m\u001b[39m, but settings are not configured. \u001b[39m\u001b[39m\"\u001b[39m\n\u001b[1;32m     65\u001b[0m         \u001b[39m\"\u001b[39m\u001b[39mYou must either define the environment variable \u001b[39m\u001b[39m%s\u001b[39;00m\u001b[39m \u001b[39m\u001b[39m\"\u001b[39m\n\u001b[1;32m     66\u001b[0m         \u001b[39m\"\u001b[39m\u001b[39mor call settings.configure() before accessing settings.\u001b[39m\u001b[39m\"\u001b[39m\n\u001b[1;32m     67\u001b[0m         \u001b[39m%\u001b[39m (desc, ENVIRONMENT_VARIABLE))\n\u001b[1;32m     69\u001b[0m \u001b[39mself\u001b[39m\u001b[39m.\u001b[39m_wrapped \u001b[39m=\u001b[39m Settings(settings_module)\n",
      "\u001b[0;31mImproperlyConfigured\u001b[0m: Requested setting INSTALLED_APPS, but settings are not configured. You must either define the environment variable DJANGO_SETTINGS_MODULE or call settings.configure() before accessing settings."
     ]
    }
   ],
   "source": [
    "\n",
    "from django.contrib.auth.decorators import login_required\n",
    "from django.contrib.auth.models import User\n",
    "from django.http import HttpResponse, HttpResponseForbidden\n",
    "from django.contrib.auth.models import User\n",
    "\n",
    " ##bonne pratique\n",
    "def change_user_role(request, user_id, new_role):\n",
    "    user = User.objects.get(id=user_id)\n",
    "    user.role = new_role\n",
    "    user.save()\n",
    "    return HttpResponse(\"Le rôle de l'utilisateur a été modifié avec succès.\")\n",
    "\n",
    "##mauvaise pratique\n",
    "@login_required\n",
    "def change_user_role(request, user_id, new_role):\n",
    "    if not request.user.is_superuser:\n",
    "        return HttpResponseForbidden(\"Vous n'êtes pas autorisé à effectuer cette opération.\")\n",
    "    \n",
    "    user = User.objects.get(id=user_id)\n",
    "    user.role = new_role\n",
    "    user.save()\n",
    "    return HttpResponse(\"Le rôle de l'utilisateur a été modifié avec succès.\")\n"
   ]
  }
 ],
 "metadata": {
  "kernelspec": {
   "display_name": "Python 3",
   "language": "python",
   "name": "python3"
  },
  "language_info": {
   "codemirror_mode": {
    "name": "ipython",
    "version": 3
   },
   "file_extension": ".py",
   "mimetype": "text/x-python",
   "name": "python",
   "nbconvert_exporter": "python",
   "pygments_lexer": "ipython3",
   "version": "3.10.6"
  },
  "orig_nbformat": 4,
  "vscode": {
   "interpreter": {
    "hash": "916dbcbb3f70747c44a77c7bcd40155683ae19c65e1c03b4aa3499c5328201f1"
   }
  }
 },
 "nbformat": 4,
 "nbformat_minor": 2
}
