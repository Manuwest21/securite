{
 "cells": [
  {
   "attachments": {},
   "cell_type": "markdown",
   "metadata": {},
   "source": [
    "### Pas le bon niveau d'acces utilisateur"
   ]
  },
  {
   "cell_type": "code",
   "execution_count": 3,
   "metadata": {},
   "outputs": [
    {
     "name": "stdout",
     "output_type": "stream",
     "text": [
      "Utilisateur admin : admin (Rôle : admin, Niveau de privilège : 3)\n",
      "Utilisateur comptable : comptable (Rôle : accountant, Niveau de privilège : 2)\n",
      "Utilisateur de base : utilisateur (Rôle : user, Niveau de privilège : 2)\n"
     ]
    }
   ],
   "source": [
    "class User:\n",
    "    def __init__(self, username, role, privilege_level):\n",
    "        self.username = username\n",
    "        self.role = role\n",
    "        self.privilege_level = privilege_level\n",
    "\n",
    "def create_users():\n",
    "    admin = User(\"admin\", \"admin\", 3)\n",
    "    accountant = User(\"comptable\", \"accountant\", 2)\n",
    "    user = User(\"utilisateur\", \"user\", 1)\n",
    "    user.privilege_level = accountant.privilege_level  # L'utilisateur de base hérite du niveau de privilège du comptable\n",
    "\n",
    "    return admin, accountant, user\n",
    "\n",
    "# Utilisation de la fonction create_users\n",
    "admin_user, accountant_user, basic_user = create_users()\n",
    "\n",
    "print(\"Utilisateur admin : {} (Rôle : {}, Niveau de privilège : {})\".format(admin_user.username, admin_user.role, admin_user.privilege_level))\n",
    "print(\"Utilisateur comptable : {} (Rôle : {}, Niveau de privilège : {})\".format(accountant_user.username, accountant_user.role, accountant_user.privilege_level))\n",
    "print(\"Utilisateur de base : {} (Rôle : {}, Niveau de privilège : {})\".format(basic_user.username, basic_user.role, basic_user.privilege_level))"
   ]
  },
  {
   "attachments": {},
   "cell_type": "markdown",
   "metadata": {},
   "source": [
    "### Pas le bon role utilisateur"
   ]
  },
  {
   "cell_type": "code",
   "execution_count": 4,
   "metadata": {},
   "outputs": [
    {
     "name": "stdout",
     "output_type": "stream",
     "text": [
      "Utilisateur admin : admin (Rôle : admin, Niveau de privilège : 3)\n",
      "Utilisateur comptable : comptable (Rôle : accountant, Niveau de privilège : 2)\n",
      "Utilisateur de base : utilisateur (Rôle : accountant, Niveau de privilège : 1)\n"
     ]
    }
   ],
   "source": [
    "class User:\n",
    "    def __init__(self, username, role, privilege_level):\n",
    "        self.username = username\n",
    "        self.role = role\n",
    "        self.privilege_level = privilege_level\n",
    "\n",
    "def create_users():\n",
    "    admin = User(\"admin\", \"admin\", 3)\n",
    "    accountant = User(\"comptable\", \"accountant\", 2)\n",
    "    user = User(\"utilisateur\", \"user\", 1)\n",
    "\n",
    "    user.role = accountant.role  # L'utilisateur hérite du rôle du comptable\n",
    "\n",
    "    return admin, accountant, user\n",
    "\n",
    "# Utilisation de la fonction create_users\n",
    "admin_user, accountant_user, basic_user = create_users()\n",
    "\n",
    "print(\"Utilisateur admin : {} (Rôle : {}, Niveau de privilège : {})\".format(admin_user.username, admin_user.role, admin_user.privilege_level))\n",
    "print(\"Utilisateur comptable : {} (Rôle : {}, Niveau de privilège : {})\".format(accountant_user.username, accountant_user.role, accountant_user.privilege_level))\n",
    "print(\"Utilisateur de base : {} (Rôle : {}, Niveau de privilège : {})\".format(basic_user.username, basic_user.role, basic_user.privilege_level))\n"
   ]
  },
  {
   "cell_type": "code",
   "execution_count": null,
   "metadata": {},
   "outputs": [],
   "source": []
  }
 ],
 "metadata": {
  "kernelspec": {
   "display_name": "Python 3",
   "language": "python",
   "name": "python3"
  },
  "language_info": {
   "codemirror_mode": {
    "name": "ipython",
    "version": 3
   },
   "file_extension": ".py",
   "mimetype": "text/x-python",
   "name": "python",
   "nbconvert_exporter": "python",
   "pygments_lexer": "ipython3",
   "version": "3.10.6"
  },
  "orig_nbformat": 4,
  "vscode": {
   "interpreter": {
    "hash": "916dbcbb3f70747c44a77c7bcd40155683ae19c65e1c03b4aa3499c5328201f1"
   }
  }
 },
 "nbformat": 4,
 "nbformat_minor": 2
}
